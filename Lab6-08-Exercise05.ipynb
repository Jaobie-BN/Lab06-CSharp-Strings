{
 "cells": [
  {
   "cell_type": "markdown",
   "metadata": {
    "dotnet_interactive": {
     "language": "csharp"
    },
    "polyglot_notebook": {
     "kernelName": "csharp"
    }
   },
   "source": [
    "# Lab 6 Exercise 5\n"
   ]
  },
  {
   "cell_type": "markdown",
   "metadata": {},
   "source": [
    "\n",
    "## Verbatim string literals\n",
    "\n",
    "Verbatim string literals เป็น string ที่ขึ้นต้นด้วย @ ช่วยให้เราไม่ต้องเขียน escape sequence ทำให้ประหยัดเวลาในการเขียน code   และอ่าน code ได้ง่ายขึ้น\n",
    "\n",
    "### ข้อดีของ Verbatim String Literals\n",
    "\n",
    "__อ่านง่าย__  ไม่ต้องใช้ escape sequences ทำให้ string ดูสะอาดตาและอ่านง่ายขึ้น\n",
    "__สะดวก__ ง่ายต่อการใส่เครื่องหมายพิเศษต่างๆ โดยไม่ต้องจำ escape sequences\n",
    "\n",
    "__เหมาะสำหรับ__\n",
    "\n",
    "* การใส่ path ของไฟล์หรือโฟลเดอร์\n",
    ">   ```c#\n",
    ">       string path = @\"C:\\Users\\JohnDoe\\Documents\"; \n",
    ">   ```\n",
    "\n",
    "* การเขียน SQL query หรือ XML ที่มีหลายบรรทัด\n",
    ">   ```c#\n",
    ">       string query = @\"SELECT *\n",
    ">                        FROM Customers\n",
    ">                        WHERE Planet = 'Mars'\";\n",
    ">   ```                  \n",
    "                  \n",
    "\n",
    "* การใส่ regular expressions ที่ซับซ้อน\n",
    "> ```c#\n",
    ">    string emailPattern = @\"^[a-zA-Z0-9._%+-]+@[a-zA-Z0-9.-]+\\.[a-zA-Z]{2,}$\";\n",
    ">       \n",
    ">    string email1 = \"test@example.com\";\n",
    ">    string email2 = \"invalid-email\";\n",
    ">       \n",
    ">    Console.WriteLine($\"{email1} is valid: {Regex.IsMatch(email1, emailPattern)}\"); \n",
    ">    Console.WriteLine($\"{email2} is valid: {Regex.IsMatch(email2, emailPattern)}\"); \n",
    "> ```\n",
    "\n",
    "\n",
    "### ข้อควรระวัง\n",
    "\n",
    "ถ้าต้องการใส่เครื่องหมายคำพูดคู่ (\") ใน verbatim string literal ต้องใช้ \"\" (เครื่องหมายคำพูดคู่สองอัน)\n"
   ]
  },
  {
   "cell_type": "markdown",
   "metadata": {},
   "source": [
    "\n",
    "1. สร้าง project ใหม่\n",
    "\n",
    ">   ```\n",
    ">       dotnet new console -n Lab06_Exercise05\n",
    ">   ```\n"
   ]
  },
  {
   "cell_type": "markdown",
   "metadata": {},
   "source": [
    "2. แก้ไข code ใน Program.cs เป็นดังนี้\n",
    "\n",
    "> ```c#\n",
    ">   string filepath  = \"C:\\\\OOP\\\\Lab03\\\\Exercise05\";\n",
    ">   string Verbatim_filepath  = @\"C:\\OOP\\Lab03\\Exercise05\";\n",
    ">   \n",
    ">   System.Console.WriteLine(@\"Example #1. directory name separation '\\'\");\n",
    ">   System.Console.WriteLine($\"filepath = {filepath}\");\n",
    ">   System.Console.WriteLine($\"Verbatim_filepath = {Verbatim_filepath}\");\n",
    ">   \n",
    ">   // \n",
    ">   var multi_line_text = \"this\\nis\\nmulti\\nline\\ntext.\";\n",
    ">   \n",
    ">   var verbatim_multi_line_text = @\"this\n",
    ">   is\n",
    ">   multi\n",
    ">   line\n",
    ">   text.\";\n",
    ">   \n",
    ">   System.Console.WriteLine(\"--------------------------------------\");\n",
    ">   System.Console.WriteLine(@\"Example #2. multi line text without \\n escape sequence\");\n",
    ">   System.Console.WriteLine($\"multi_line_text = {multi_line_text}\");\n",
    ">   System.Console.WriteLine($\"verbatim_multi_line_text = {verbatim_multi_line_text}\");\n",
    ">   \n",
    ">   var quote_in_text = \"My name is \\\"Sara\\\".\";\n",
    ">   var quote_in_verbatim_text = @\"My name is \"\"Sara\"\".\";\n",
    ">   \n",
    ">   System.Console.WriteLine(\"--------------------------------------\");\n",
    ">   System.Console.WriteLine(@\"Example #3. double quote in text\");\n",
    ">   System.Console.WriteLine($\"quote_in_verbatim_text = {quote_in_verbatim_text}\");\n",
    ">   System.Console.WriteLine($\"quote_in_text = {quote_in_text}\");\n",
    "> \n",
    "> ```\n"
   ]
  },
  {
   "cell_type": "markdown",
   "metadata": {},
   "source": [
    "3. อธิบายโปรแกรม\n",
    "ให้ศึกษาโปรแกรมด้านบนและอธิบายการทำงาน"
   ]
  },
  {
   "cell_type": "markdown",
   "metadata": {},
   "source": [
    "\n",
    "4. รันโปรแกรม\n",
    "\n",
    ">   ```\n",
    ">       dotnet run --project Lab03_Exercise05\n",
    ">   ```\n"
   ]
  },
  {
   "cell_type": "markdown",
   "metadata": {},
   "source": [
    "5. การส่งงาน\n",
    "\n",
    "บันทึกภาพหน้าจอโปรแกรม แนบในใบงานนี้"
   ]
  },
  {
   "attachments": {
    "image.png": {
     "image/png": "[encoded data removed]"
    }
   },
   "cell_type": "markdown",
   "metadata": {},
   "source": [
    "![image.png](attachment:image.png)"
   ]
  }
 ],
 "metadata": {
  "kernelspec": {
   "display_name": ".NET (C#)",
   "language": "C#",
   "name": ".net-csharp"
  },
  "polyglot_notebook": {
   "kernelInfo": {
    "defaultKernelName": "csharp",
    "items": [
     {
      "aliases": [],
      "languageName": "csharp",
      "name": "csharp"
     }
    ]
   }
  }
 },
 "nbformat": 4,
 "nbformat_minor": 2
}
