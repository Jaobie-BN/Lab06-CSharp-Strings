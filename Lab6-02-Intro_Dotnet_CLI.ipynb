{
 "cells": [
  {
   "cell_type": "markdown",
   "metadata": {},
   "source": [
    "# แนะนำ dotnet CLI"
   ]
  },
  {
   "cell_type": "markdown",
   "metadata": {},
   "source": [
    "## คำสั่งพื้นฐาน"
   ]
  },
  {
   "cell_type": "markdown",
   "metadata": {},
   "source": [
    "เราสามารถสั่งให้ dotnet แสดงคำสั่งพื้นฐานออกมาโดยการใข้คำสั่ง dotnet คำสั่ง --help ซึ่งจะแสดงคำสั่งพร้อมรูปแบบการใช้งานโดยย่อออกมา\n",
    "\n",
    "TODO: รันคำสั่งใน block cell ด้านล่างนี้ (หมายเหตุ  block cell ด้านล่างใช้ kernel power shell ซึ่งสามารถเรียกใช้คำสั่งของระบบจาก notbook ได้โดยตรง)"
   ]
  },
  {
   "cell_type": "code",
   "execution_count": null,
   "metadata": {
    "dotnet_interactive": {
     "language": "pwsh"
    },
    "polyglot_notebook": {
     "kernelName": "pwsh"
    }
   },
   "outputs": [
    {
     "name": "stdout",
     "output_type": "stream",
     "text": [
      "Usage: dotnet [runtime-options] [path-to-application] [arguments]\n",
      "\n",
      "Execute a .NET application.\n",
      "\n",
      "runtime-options:\n",
      "  --additionalprobingpath <path>   Path containing probing policy and assemblies to probe for.\n",
      "  --additional-deps <path>         Path to additional deps.json file.\n",
      "  --depsfile                       Path to <application>.deps.json file.\n",
      "  --fx-version <version>           Version of the installed Shared Framework to use to run the application.\n",
      "  --roll-forward <setting>         Roll forward to framework version  (LatestPatch, Minor, LatestMinor, Major, LatestMajor, Disable).\n",
      "  --runtimeconfig                  Path to <application>.runtimeconfig.json file.\n",
      "\n",
      "path-to-application:\n",
      "  The path to an application .dll file to execute.\n",
      "\n",
      "Usage: dotnet [sdk-options] [command] [command-options] [arguments]\n",
      "\n",
      "Execute a .NET SDK command.\n",
      "\n",
      "sdk-options:\n",
      "  -d|--diagnostics  Enable diagnostic output.\n",
      "  -h|--help         Show command line help.\n",
      "  --info            Display .NET information.\n",
      "  --list-runtimes   Display the installed runtimes.\n",
      "  --list-sdks       Display the installed SDKs.\n",
      "  --version         Display .NET SDK version in use.\n",
      "\n",
      "SDK commands:\n",
      "  add               Add a package or reference to a .NET project.\n",
      "  build             Build a .NET project.\n",
      "  build-server      Interact with servers started by a build.\n",
      "  clean             Clean build outputs of a .NET project.\n",
      "  format            Apply style preferences to a project or solution.\n",
      "  help              Opens the reference page in a browser for the specified command.\n",
      "  list              List packages or references of a .NET project.\n",
      "  msbuild           Run Microsoft Build Engine (MSBuild) commands.\n",
      "  new               Create a new .NET project or file.\n",
      "  nuget             Provides additional NuGet commands.\n",
      "  pack              Create a NuGet package.\n",
      "  publish           Publish a .NET project for deployment.\n",
      "  remove            Remove a package or reference from a .NET project.\n",
      "  restore           Restore dependencies specified in a .NET project.\n",
      "  run               Build and run a .NET project output.\n",
      "  sdk               Manage .NET SDK installation.\n",
      "  sln               Modify Visual Studio solution files.\n",
      "  store             Store the specified assemblies in the runtime package store.\n",
      "  test              Run unit tests using the test runner specified in a .NET project.\n",
      "  tool              Install or manage tools that extend the .NET experience.\n",
      "  vstest            Run Microsoft Test Engine (VSTest) commands.\n",
      "  workload          Manage optional workloads.\n",
      "\n",
      "Additional commands from bundled tools:\n",
      "  dev-certs         Create and manage development certificates.\n",
      "  fsi               Start F# Interactive / execute F# scripts.\n",
      "  user-jwts         Manage JSON Web Tokens in development.\n",
      "  user-secrets      Manage development user secrets.\n",
      "  watch             Start a file watcher that runs a command when files change.\n",
      "\n",
      "Run 'dotnet [command] --help' for more information on a command.\n"
     ]
    }
   ],
   "source": [
    "dotnet --help"
   ]
  },
  {
   "cell_type": "markdown",
   "metadata": {},
   "source": [
    "คำสั่งที่ใช้ในการทดลองพื้นฐาน จะมี 3 คำสั่งคือ new, build และ run ซึ่งสามารถศึกษารูปแบบการใช้งานโดยใช้คำสั่ง help ได้เช่นกัน"
   ]
  },
  {
   "cell_type": "markdown",
   "metadata": {},
   "source": [
    "### คำสั่ง dotnet new"
   ]
  },
  {
   "cell_type": "code",
   "execution_count": null,
   "metadata": {
    "dotnet_interactive": {
     "language": "pwsh"
    },
    "polyglot_notebook": {
     "kernelName": "pwsh"
    }
   },
   "outputs": [],
   "source": [
    "dotnet --help new"
   ]
  },
  {
   "cell_type": "markdown",
   "metadata": {},
   "source": [
    "ดูเพิ่มเติมที่\n",
    "\n",
    "https://learn.microsoft.com/en-us/dotnet/core/tools/dotnet-new"
   ]
  },
  {
   "cell_type": "markdown",
   "metadata": {},
   "source": [
    "### คำสั่ง dotnet build"
   ]
  },
  {
   "cell_type": "code",
   "execution_count": null,
   "metadata": {
    "dotnet_interactive": {
     "language": "pwsh"
    },
    "polyglot_notebook": {
     "kernelName": "pwsh"
    }
   },
   "outputs": [],
   "source": [
    "dotnet --help build"
   ]
  },
  {
   "cell_type": "markdown",
   "metadata": {},
   "source": [
    "### คำสั่ง dotnet build"
   ]
  },
  {
   "cell_type": "code",
   "execution_count": null,
   "metadata": {
    "dotnet_interactive": {
     "language": "pwsh"
    },
    "polyglot_notebook": {
     "kernelName": "pwsh"
    }
   },
   "outputs": [],
   "source": [
    "dotnet --help run"
   ]
  }
 ],
 "metadata": {
  "kernelspec": {
   "display_name": ".NET (C#)",
   "language": "C#",
   "name": ".net-csharp"
  },
  "polyglot_notebook": {
   "kernelInfo": {
    "defaultKernelName": "csharp",
    "items": [
     {
      "aliases": [],
      "languageName": "csharp",
      "name": "csharp"
     }
    ]
   }
  }
 },
 "nbformat": 4,
 "nbformat_minor": 2
}
